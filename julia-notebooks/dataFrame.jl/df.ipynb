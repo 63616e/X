{
 "cells": [
  {
   "cell_type": "code",
   "execution_count": 1,
   "metadata": {},
   "outputs": [
    {
     "name": "stderr",
     "output_type": "stream",
     "text": [
      "\u001b[32m\u001b[1m    Updating\u001b[22m\u001b[39m registry at `~/.julia/registries/General.toml`\n",
      "\u001b[32m\u001b[1m   Resolving\u001b[22m\u001b[39m package versions...\n",
      "\u001b[32m\u001b[1m  No Changes\u001b[22m\u001b[39m to `~/Desktop/julia-notebooks/Project.toml`\n",
      "\u001b[32m\u001b[1m  No Changes\u001b[22m\u001b[39m to `~/Desktop/julia-notebooks/Manifest.toml`\n",
      "\u001b[32m\u001b[1m   Resolving\u001b[22m\u001b[39m package versions...\n",
      "\u001b[32m\u001b[1m  No Changes\u001b[22m\u001b[39m to `~/Desktop/julia-notebooks/Project.toml`\n",
      "\u001b[32m\u001b[1m  No Changes\u001b[22m\u001b[39m to `~/Desktop/julia-notebooks/Manifest.toml`\n"
     ]
    }
   ],
   "source": [
    "using Pkg\n",
    "Pkg.add(\"DataFrames\")\n",
    "Pkg.add(\"CSV\")\n",
    "using DataFrames\n",
    "using CSV"
   ]
  },
  {
   "cell_type": "code",
   "execution_count": 2,
   "metadata": {},
   "outputs": [
    {
     "data": {
      "text/html": [
       "<div class=\"data-frame\"><p>18 rows × 5 columns</p><table class=\"data-frame\"><thead><tr><th></th><th>Name</th><th>Sex</th><th>Age</th><th>Height (in)</th><th>Weight (lbs)</th></tr><tr><th></th><th title=\"String7\">String7</th><th title=\"String1\">String1</th><th title=\"Int64\">Int64</th><th title=\"Int64\">Int64</th><th title=\"Int64\">Int64</th></tr></thead><tbody><tr><th>1</th><td>Alex</td><td>M</td><td>41</td><td>74</td><td>170</td></tr><tr><th>2</th><td>Bert</td><td>M</td><td>42</td><td>68</td><td>166</td></tr><tr><th>3</th><td>Carl</td><td>M</td><td>32</td><td>70</td><td>155</td></tr><tr><th>4</th><td>Dave</td><td>M</td><td>39</td><td>72</td><td>167</td></tr><tr><th>5</th><td>Elly</td><td>F</td><td>30</td><td>66</td><td>124</td></tr><tr><th>6</th><td>Fran</td><td>F</td><td>33</td><td>66</td><td>115</td></tr><tr><th>7</th><td>Gwen</td><td>F</td><td>26</td><td>64</td><td>121</td></tr><tr><th>8</th><td>Hank</td><td>M</td><td>30</td><td>71</td><td>158</td></tr><tr><th>9</th><td>Ivan</td><td>M</td><td>53</td><td>72</td><td>175</td></tr><tr><th>10</th><td>Jake</td><td>M</td><td>32</td><td>69</td><td>143</td></tr><tr><th>11</th><td>Kate</td><td>F</td><td>47</td><td>69</td><td>139</td></tr><tr><th>12</th><td>Luke</td><td>M</td><td>34</td><td>72</td><td>163</td></tr><tr><th>13</th><td>Myra</td><td>F</td><td>23</td><td>62</td><td>98</td></tr><tr><th>14</th><td>Neil</td><td>M</td><td>36</td><td>75</td><td>160</td></tr><tr><th>15</th><td>Omar</td><td>M</td><td>38</td><td>70</td><td>145</td></tr><tr><th>16</th><td>Page</td><td>F</td><td>31</td><td>67</td><td>135</td></tr><tr><th>17</th><td>Quin</td><td>M</td><td>29</td><td>71</td><td>176</td></tr><tr><th>18</th><td>Ruth</td><td>F</td><td>28</td><td>65</td><td>131</td></tr></tbody></table></div>"
      ],
      "text/latex": [
       "\\begin{tabular}{r|ccccc}\n",
       "\t& Name & Sex & Age & Height (in) & Weight (lbs)\\\\\n",
       "\t\\hline\n",
       "\t& String7 & String1 & Int64 & Int64 & Int64\\\\\n",
       "\t\\hline\n",
       "\t1 & Alex & M & 41 & 74 & 170 \\\\\n",
       "\t2 & Bert & M & 42 & 68 & 166 \\\\\n",
       "\t3 & Carl & M & 32 & 70 & 155 \\\\\n",
       "\t4 & Dave & M & 39 & 72 & 167 \\\\\n",
       "\t5 & Elly & F & 30 & 66 & 124 \\\\\n",
       "\t6 & Fran & F & 33 & 66 & 115 \\\\\n",
       "\t7 & Gwen & F & 26 & 64 & 121 \\\\\n",
       "\t8 & Hank & M & 30 & 71 & 158 \\\\\n",
       "\t9 & Ivan & M & 53 & 72 & 175 \\\\\n",
       "\t10 & Jake & M & 32 & 69 & 143 \\\\\n",
       "\t11 & Kate & F & 47 & 69 & 139 \\\\\n",
       "\t12 & Luke & M & 34 & 72 & 163 \\\\\n",
       "\t13 & Myra & F & 23 & 62 & 98 \\\\\n",
       "\t14 & Neil & M & 36 & 75 & 160 \\\\\n",
       "\t15 & Omar & M & 38 & 70 & 145 \\\\\n",
       "\t16 & Page & F & 31 & 67 & 135 \\\\\n",
       "\t17 & Quin & M & 29 & 71 & 176 \\\\\n",
       "\t18 & Ruth & F & 28 & 65 & 131 \\\\\n",
       "\\end{tabular}\n"
      ],
      "text/plain": [
       "\u001b[1m18×5 DataFrame\u001b[0m\n",
       "\u001b[1m Row \u001b[0m│\u001b[1m Name    \u001b[0m\u001b[1m Sex     \u001b[0m\u001b[1m Age   \u001b[0m\u001b[1m Height (in) \u001b[0m\u001b[1m Weight (lbs) \u001b[0m\n",
       "\u001b[1m     \u001b[0m│\u001b[90m String7 \u001b[0m\u001b[90m String1 \u001b[0m\u001b[90m Int64 \u001b[0m\u001b[90m Int64       \u001b[0m\u001b[90m Int64        \u001b[0m\n",
       "─────┼────────────────────────────────────────────────────\n",
       "   1 │ Alex     M           41           74           170\n",
       "   2 │ Bert     M           42           68           166\n",
       "   3 │ Carl     M           32           70           155\n",
       "   4 │ Dave     M           39           72           167\n",
       "   5 │ Elly     F           30           66           124\n",
       "   6 │ Fran     F           33           66           115\n",
       "   7 │ Gwen     F           26           64           121\n",
       "   8 │ Hank     M           30           71           158\n",
       "  ⋮  │    ⋮        ⋮       ⋮         ⋮            ⋮\n",
       "  12 │ Luke     M           34           72           163\n",
       "  13 │ Myra     F           23           62            98\n",
       "  14 │ Neil     M           36           75           160\n",
       "  15 │ Omar     M           38           70           145\n",
       "  16 │ Page     F           31           67           135\n",
       "  17 │ Quin     M           29           71           176\n",
       "  18 │ Ruth     F           28           65           131\n",
       "\u001b[36m                                            3 rows omitted\u001b[0m"
      ]
     },
     "metadata": {},
     "output_type": "display_data"
    }
   ],
   "source": [
    "df = DataFrame(CSV.File(\"biostats.csv\"))"
   ]
  },
  {
   "cell_type": "code",
   "execution_count": 3,
   "metadata": {},
   "outputs": [
    {
     "data": {
      "text/html": [
       "<div class=\"data-frame\"><p>18 rows × 1 columns</p><table class=\"data-frame\"><thead><tr><th></th><th>Age</th></tr><tr><th></th><th title=\"Int64\">Int64</th></tr></thead><tbody><tr><th>1</th><td>41</td></tr><tr><th>2</th><td>42</td></tr><tr><th>3</th><td>32</td></tr><tr><th>4</th><td>39</td></tr><tr><th>5</th><td>30</td></tr><tr><th>6</th><td>33</td></tr><tr><th>7</th><td>26</td></tr><tr><th>8</th><td>30</td></tr><tr><th>9</th><td>53</td></tr><tr><th>10</th><td>32</td></tr><tr><th>11</th><td>47</td></tr><tr><th>12</th><td>34</td></tr><tr><th>13</th><td>23</td></tr><tr><th>14</th><td>36</td></tr><tr><th>15</th><td>38</td></tr><tr><th>16</th><td>31</td></tr><tr><th>17</th><td>29</td></tr><tr><th>18</th><td>28</td></tr></tbody></table></div>"
      ],
      "text/latex": [
       "\\begin{tabular}{r|c}\n",
       "\t& Age\\\\\n",
       "\t\\hline\n",
       "\t& Int64\\\\\n",
       "\t\\hline\n",
       "\t1 & 41 \\\\\n",
       "\t2 & 42 \\\\\n",
       "\t3 & 32 \\\\\n",
       "\t4 & 39 \\\\\n",
       "\t5 & 30 \\\\\n",
       "\t6 & 33 \\\\\n",
       "\t7 & 26 \\\\\n",
       "\t8 & 30 \\\\\n",
       "\t9 & 53 \\\\\n",
       "\t10 & 32 \\\\\n",
       "\t11 & 47 \\\\\n",
       "\t12 & 34 \\\\\n",
       "\t13 & 23 \\\\\n",
       "\t14 & 36 \\\\\n",
       "\t15 & 38 \\\\\n",
       "\t16 & 31 \\\\\n",
       "\t17 & 29 \\\\\n",
       "\t18 & 28 \\\\\n",
       "\\end{tabular}\n"
      ],
      "text/plain": [
       "\u001b[1m18×1 DataFrame\u001b[0m\n",
       "\u001b[1m Row \u001b[0m│\u001b[1m Age   \u001b[0m\n",
       "\u001b[1m     \u001b[0m│\u001b[90m Int64 \u001b[0m\n",
       "─────┼───────\n",
       "   1 │    41\n",
       "   2 │    42\n",
       "   3 │    32\n",
       "   4 │    39\n",
       "   5 │    30\n",
       "   6 │    33\n",
       "   7 │    26\n",
       "   8 │    30\n",
       "  ⋮  │   ⋮\n",
       "  12 │    34\n",
       "  13 │    23\n",
       "  14 │    36\n",
       "  15 │    38\n",
       "  16 │    31\n",
       "  17 │    29\n",
       "  18 │    28\n",
       "\u001b[36m3 rows omitted\u001b[0m"
      ]
     },
     "metadata": {},
     "output_type": "display_data"
    }
   ],
   "source": [
    "select(df, \"Age\")"
   ]
  },
  {
   "cell_type": "code",
   "execution_count": 4,
   "metadata": {},
   "outputs": [
    {
     "data": {
      "text/plain": [
       "34.666666666666664"
      ]
     },
     "metadata": {},
     "output_type": "display_data"
    }
   ],
   "source": [
    "using Statistics\n",
    "mean(df.Age)"
   ]
  },
  {
   "cell_type": "code",
   "execution_count": 5,
   "metadata": {},
   "outputs": [
    {
     "data": {
      "text/plain": [
       "32.5"
      ]
     },
     "metadata": {},
     "output_type": "display_data"
    }
   ],
   "source": [
    "median(df.Age)"
   ]
  }
 ],
 "metadata": {
  "kernelspec": {
   "display_name": "Julia 1.7.2",
   "language": "julia",
   "name": "julia-1.7"
  },
  "language_info": {
   "file_extension": ".jl",
   "mimetype": "application/julia",
   "name": "julia",
   "version": "1.7.2"
  },
  "orig_nbformat": 4
 },
 "nbformat": 4,
 "nbformat_minor": 2
}
