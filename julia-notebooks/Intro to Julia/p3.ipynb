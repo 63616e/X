{
 "cells": [
  {
   "cell_type": "code",
   "execution_count": 75,
   "metadata": {},
   "outputs": [
    {
     "name": "stdout",
     "output_type": "stream",
     "text": [
      "10"
     ]
    }
   ],
   "source": [
    "#=\n",
    "while *condition*\n",
    "    *loop body*\n",
    "end\n",
    "=#\n",
    "while x <10\n",
    "    x=x+1\n",
    "end\n",
    "print(x)"
   ]
  },
  {
   "cell_type": "code",
   "execution_count": 76,
   "metadata": {},
   "outputs": [
    {
     "name": "stdout",
     "output_type": "stream",
     "text": [
      "Hi Ted, it's great to see you!\n",
      "Hi Robyn, it's great to see you!\n",
      "Hi Barney, it's great to see you!\n",
      "Hi Lily, it's great to see you!\n",
      "Hi Marshall, it's great to see you!\n"
     ]
    }
   ],
   "source": [
    "myfriends = [\"Ted\", \"Robyn\", \"Barney\", \"Lily\", \"Marshall\"]\n",
    "\n",
    "i = 1\n",
    "while i <= length(myfriends)\n",
    "friend = myfriends[i]\n",
    "println(\"Hi $friend, it's great to see you!\")\n",
    "    i += 1\n",
    "end\n",
    "# okay cool the indentation doesn't matter. "
   ]
  },
  {
   "cell_type": "code",
   "execution_count": 77,
   "metadata": {},
   "outputs": [
    {
     "name": "stdout",
     "output_type": "stream",
     "text": [
      "12345678910"
     ]
    }
   ],
   "source": [
    "#= \n",
    "for *var* in *loop iterable*\n",
    "    *loop body*\n",
    "end\n",
    "=# \n",
    "for x in 1:10\n",
    "    print(x)\n",
    "end"
   ]
  },
  {
   "cell_type": "code",
   "execution_count": 78,
   "metadata": {},
   "outputs": [
    {
     "data": {
      "text/plain": [
       "5×5 Matrix{Float64}:\n",
       " 2.0  3.0  4.0  5.0   6.0\n",
       " 3.0  4.0  5.0  6.0   7.0\n",
       " 4.0  5.0  6.0  7.0   8.0\n",
       " 5.0  6.0  7.0  8.0   9.0\n",
       " 6.0  7.0  8.0  9.0  10.0"
      ]
     },
     "metadata": {},
     "output_type": "display_data"
    }
   ],
   "source": [
    "n = 5\n",
    "m= 5\n",
    "A = zeros(n,m)\n",
    "for j in 1:n\n",
    "    for i in 1:m\n",
    "        A[i, j] = i + j\n",
    "    end\n",
    "end\n",
    "A"
   ]
  },
  {
   "cell_type": "code",
   "execution_count": 79,
   "metadata": {},
   "outputs": [
    {
     "name": "stdout",
     "output_type": "stream",
     "text": [
      "FizzBuzz\n"
     ]
    }
   ],
   "source": [
    "N = 0\n",
    "if (N % 3 == 0) && (N % 5 == 0) # `&&` means \"AND\"; % computes the remainder after division\n",
    "    println(\"FizzBuzz\")\n",
    "elseif N % 3 == 0\n",
    "    println(\"Fizz\")\n",
    "elseif N % 5 == 0\n",
    "    println(\"Buzz\")\n",
    "else\n",
    "    println(N)\n",
    "end"
   ]
  },
  {
   "cell_type": "code",
   "execution_count": 80,
   "metadata": {},
   "outputs": [
    {
     "data": {
      "text/plain": [
       "2"
      ]
     },
     "metadata": {},
     "output_type": "display_data"
    }
   ],
   "source": [
    "x = 1\n",
    "y= 2 \n",
    "(x > y) ? x : y"
   ]
  },
  {
   "cell_type": "code",
   "execution_count": 81,
   "metadata": {},
   "outputs": [
    {
     "name": "stdout",
     "output_type": "stream",
     "text": [
      "Hi John, it's great to see you!\n"
     ]
    }
   ],
   "source": [
    "function sayhi(name)\n",
    "    println(\"Hi $name, it's great to see you!\")\n",
    "end\n",
    "\n",
    "sayhi(\"John\")"
   ]
  },
  {
   "cell_type": "code",
   "execution_count": 82,
   "metadata": {},
   "outputs": [
    {
     "name": "stdout",
     "output_type": "stream",
     "text": [
      "Hi test, it's great to see you!\n"
     ]
    }
   ],
   "source": [
    "sayhi2(name) = println(\"Hi $name, it's great to see you!\")\n",
    "sayhi2(\"test\")"
   ]
  },
  {
   "cell_type": "code",
   "execution_count": 83,
   "metadata": {},
   "outputs": [
    {
     "name": "stdout",
     "output_type": "stream",
     "text": [
      "Hi testing2, it's great to see you!\n"
     ]
    }
   ],
   "source": [
    "sayhi3 = name -> println(\"Hi $name, it's great to see you!\")\n",
    "sayhi3(\"testing2\")"
   ]
  },
  {
   "cell_type": "code",
   "execution_count": 84,
   "metadata": {},
   "outputs": [
    {
     "name": "stdout",
     "output_type": "stream",
     "text": [
      "sort without mutate: [1, 2, 3]\n",
      "original: [1, 3, 2]\n",
      "sort with mutate: [1, 2, 3]\n"
     ]
    }
   ],
   "source": [
    "# a function that would be mutating the function would have ! in front of it. otherwise the original is not changed. \n",
    "\n",
    "v = [1,3,2]\n",
    "println(\"sort without mutate: \", sort(v))\n",
    "println(\"original: \",v) \n",
    "sort!(v)\n",
    "println(\"sort with mutate: \", v)"
   ]
  },
  {
   "cell_type": "code",
   "execution_count": 90,
   "metadata": {},
   "outputs": [
    {
     "name": "stdout",
     "output_type": "stream",
     "text": [
      "[2, 4, 6]"
     ]
    }
   ],
   "source": [
    "# map applies the function to each element of the data structure you input \n",
    "\n",
    "f = [1,2,3]\n",
    " y= map(x -> x*2, f)\n",
    "print(y)\n"
   ]
  }
 ],
 "metadata": {
  "kernelspec": {
   "display_name": "Julia 1.7.2",
   "language": "julia",
   "name": "julia-1.7"
  },
  "language_info": {
   "file_extension": ".jl",
   "mimetype": "application/julia",
   "name": "julia",
   "version": "1.7.2"
  },
  "orig_nbformat": 4
 },
 "nbformat": 4,
 "nbformat_minor": 2
}
