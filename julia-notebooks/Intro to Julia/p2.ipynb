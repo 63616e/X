{
 "cells": [
  {
   "cell_type": "code",
   "execution_count": 75,
   "metadata": {},
   "outputs": [
    {
     "name": "stdout",
     "output_type": "stream",
     "text": [
      "testing\n",
      "\n",
      "testing\n",
      "multiline\n",
      "string\n"
     ]
    }
   ],
   "source": [
    "s1 = \"testing\"\n",
    "\n",
    "s2 = \"\"\"testing\n",
    "multiline\n",
    "string\"\"\"\n",
    "\n",
    "println(s1)\n",
    "println()\n",
    "println(s2)"
   ]
  },
  {
   "cell_type": "code",
   "execution_count": 76,
   "metadata": {},
   "outputs": [
    {
     "data": {
      "text/plain": [
       "Char"
      ]
     },
     "metadata": {},
     "output_type": "display_data"
    }
   ],
   "source": [
    "typeof('x')"
   ]
  },
  {
   "cell_type": "code",
   "execution_count": 77,
   "metadata": {},
   "outputs": [
    {
     "name": "stdout",
     "output_type": "stream",
     "text": [
      "10 + 20 = 30"
     ]
    }
   ],
   "source": [
    "# $ for interpolation \n",
    "num = 10 \n",
    "num2 = 20 \n",
    "print(\"$num + $num2 = \", num + num2)"
   ]
  },
  {
   "cell_type": "code",
   "execution_count": 78,
   "metadata": {},
   "outputs": [
    {
     "data": {
      "text/plain": [
       "\"helloworld\""
      ]
     },
     "metadata": {},
     "output_type": "display_data"
    }
   ],
   "source": [
    "string1 = \"hello\"\n",
    "string2 = \"world\"\n",
    "\n",
    "string(string1, string2)\n",
    "\n",
    "# also * for concatenation\n",
    "string1 * string2"
   ]
  },
  {
   "cell_type": "code",
   "execution_count": 79,
   "metadata": {},
   "outputs": [
    {
     "name": "stdout",
     "output_type": "stream",
     "text": [
      "penguins\n"
     ]
    }
   ],
   "source": [
    "# DATA STRUCTURES\n",
    "#=\n",
    "() -> tuple , immutable \n",
    "[] -> list , mutable \n",
    "{} -> dict\n",
    "=#\n",
    "myfavoriteanimals = (\"penguins\", \"cats\", \"sugargliders\")\n",
    "println(myfavoriteanimals[1]) \n",
    "# why index at 1??????????? :("
   ]
  },
  {
   "cell_type": "code",
   "execution_count": 80,
   "metadata": {},
   "outputs": [
    {
     "name": "stdout",
     "output_type": "stream",
     "text": [
      "penguins\n",
      "penguins\n"
     ]
    }
   ],
   "source": [
    "# Named Tuple, basically like a dictionary, except it's immutable \n",
    "\n",
    "myfavoriteanimals = (bird=\"penguins\", mammal=\"cats\", marsupial=\"sugargliders\")\n",
    "println(myfavoriteanimals.bird) \n",
    "# ou\n",
    "println(myfavoriteanimals[1])"
   ]
  },
  {
   "cell_type": "code",
   "execution_count": 81,
   "metadata": {},
   "outputs": [
    {
     "name": "stdout",
     "output_type": "stream",
     "text": [
      "867-5309\n",
      "Dict(\"Jenny\" => \"867-5309\", \"Ghostbusters\" => \"555-2368\")\n"
     ]
    }
   ],
   "source": [
    "# Dict(key1 => value1, key2 => value2, ...)\n",
    "myphonebook = Dict(\"Jenny\" => \"867-5309\", \"Ghostbusters\" => \"555-2368\")\n",
    "println(myphonebook[\"Jenny\"])\n",
    "# println(myphonebook[1]) can't do this.\n",
    "println(myphonebook)"
   ]
  },
  {
   "cell_type": "code",
   "execution_count": 82,
   "metadata": {},
   "outputs": [
    {
     "name": "stdout",
     "output_type": "stream",
     "text": [
      "Ted\n",
      "[\"Ted\", \"Robyn\", \"Barney\", \"Lily\", \"Marshall\"]\n"
     ]
    }
   ],
   "source": [
    "# arrays are mutable. Unlike dictionaries, arrays contain ordered collections.\n",
    "myfriends = [\"Ted\", \"Robyn\", \"Barney\", \"Lily\", \"Marshall\"]\n",
    "println(myfriends[1])\n",
    "println(myfriends)"
   ]
  },
  {
   "cell_type": "code",
   "execution_count": 83,
   "metadata": {},
   "outputs": [
    {
     "name": "stdout",
     "output_type": "stream",
     "text": [
      "[\"Ted\", \"Robyn\", \"Barney\", \"Lily\", \"Marshall\", \"nuts\"]\n",
      "[\"Ted\", \"Robyn\", \"Barney\", \"Lily\", \"Marshall\"]\n"
     ]
    }
   ],
   "source": [
    "# for the array we can use push and pop\n",
    "push!(myfriends, \"nuts\")\n",
    "println(myfriends)\n",
    "pop!(myfriends)\n",
    "println(myfriends)"
   ]
  },
  {
   "cell_type": "code",
   "execution_count": 84,
   "metadata": {},
   "outputs": [
    {
     "name": "stdout",
     "output_type": "stream",
     "text": [
      "chocolate\n",
      "cats\n"
     ]
    }
   ],
   "source": [
    "favorites = [[\"koobideh\", \"chocolate\", \"eggs\"], [\"penguins\", \"cats\", \"sugargliders\"]]\n",
    "\n",
    "println(favorites[1][2])\n",
    "println(favorites[2][2])"
   ]
  },
  {
   "cell_type": "code",
   "execution_count": 85,
   "metadata": {},
   "outputs": [
    {
     "name": "stdout",
     "output_type": "stream",
     "text": [
      "[[\"koobideh\", \"chocolate\", \"eggs\"], [\"penguins\", \"cats\", \"sugargliders\"]]\n"
     ]
    }
   ],
   "source": [
    "#if we want to copy the array we can use the copy function\n",
    "favorites2 = copy(favorites)\n",
    "println(favorites2)"
   ]
  }
 ],
 "metadata": {
  "kernelspec": {
   "display_name": "Julia 1.7.2",
   "language": "julia",
   "name": "julia-1.7"
  },
  "language_info": {
   "file_extension": ".jl",
   "mimetype": "application/julia",
   "name": "julia",
   "version": "1.7.2"
  },
  "orig_nbformat": 4
 },
 "nbformat": 4,
 "nbformat_minor": 2
}
