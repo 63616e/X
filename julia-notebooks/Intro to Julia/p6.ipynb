{
 "cells": [
  {
   "cell_type": "code",
   "execution_count": 156,
   "metadata": {},
   "outputs": [
    {
     "name": "stdout",
     "output_type": "stream",
     "text": [
      "equal\n",
      "not equal\n"
     ]
    }
   ],
   "source": [
    "function foo(x::String, y::String)\n",
    "    if x == y\n",
    "        return \"equal\"\n",
    "    else\n",
    "        return \"not equal\"\n",
    "    end\n",
    "end\n",
    "\n",
    "println(foo(\"hello\", \"hello\"))\n",
    "println(foo(\"hello\", \"goodbye\"))\n",
    "\n"
   ]
  },
  {
   "cell_type": "code",
   "execution_count": 157,
   "metadata": {},
   "outputs": [
    {
     "name": "stdout",
     "output_type": "stream",
     "text": [
      "not equal\n"
     ]
    }
   ],
   "source": [
    "println(foo(3, 4))"
   ]
  },
  {
   "cell_type": "code",
   "execution_count": 158,
   "metadata": {},
   "outputs": [
    {
     "name": "stdout",
     "output_type": "stream",
     "text": [
      "not equal\n",
      "equal\n"
     ]
    }
   ],
   "source": [
    "function foo(x::Int, y::Int)\n",
    "    if x == y\n",
    "        return \"equal\"\n",
    "    else\n",
    "        return \"not equal\"\n",
    "    end\n",
    "end\n",
    "println(foo(3, 4))\n",
    "println(foo(3, 3))"
   ]
  },
  {
   "cell_type": "code",
   "execution_count": 159,
   "metadata": {},
   "outputs": [
    {
     "ename": "ErrorException",
     "evalue": "syntax: unexpected \")\"",
     "output_type": "error",
     "traceback": [
      "syntax: unexpected \")\"\n",
      "\n",
      "Stacktrace:\n",
      "  [1] top-level scope\n",
      "    @ ~/Desktop/julia-notebooks/p6.ipynb:4\n",
      "  [2] eval\n",
      "    @ ./boot.jl:373 [inlined]\n",
      "  [3] include_string(mapexpr::typeof(REPL.softscope), mod::Module, code::String, filename::String)\n",
      "    @ Base ./loading.jl:1196\n",
      "  [4] #invokelatest#2\n",
      "    @ ./essentials.jl:716 [inlined]\n",
      "  [5] invokelatest\n",
      "    @ ./essentials.jl:714 [inlined]\n",
      "  [6] (::VSCodeServer.var\"#158#159\"{VSCodeServer.NotebookRunCellArguments, String})()\n",
      "    @ VSCodeServer ~/.vscode/extensions/julialang.language-julia-1.6.5/scripts/packages/VSCodeServer/src/serve_notebook.jl:19\n",
      "  [7] withpath(f::VSCodeServer.var\"#158#159\"{VSCodeServer.NotebookRunCellArguments, String}, path::String)\n",
      "    @ VSCodeServer ~/.vscode/extensions/julialang.language-julia-1.6.5/scripts/packages/VSCodeServer/src/repl.jl:184\n",
      "  [8] notebook_runcell_request(conn::VSCodeServer.JSONRPC.JSONRPCEndpoint{Base.PipeEndpoint, Base.PipeEndpoint}, params::VSCodeServer.NotebookRunCellArguments)\n",
      "    @ VSCodeServer ~/.vscode/extensions/julialang.language-julia-1.6.5/scripts/packages/VSCodeServer/src/serve_notebook.jl:13\n",
      "  [9] dispatch_msg(x::VSCodeServer.JSONRPC.JSONRPCEndpoint{Base.PipeEndpoint, Base.PipeEndpoint}, dispatcher::VSCodeServer.JSONRPC.MsgDispatcher, msg::Dict{String, Any})\n",
      "    @ VSCodeServer.JSONRPC ~/.vscode/extensions/julialang.language-julia-1.6.5/scripts/packages/JSONRPC/src/typed.jl:67\n",
      " [10] serve_notebook(pipename::String; crashreporting_pipename::String)\n",
      "    @ VSCodeServer ~/.vscode/extensions/julialang.language-julia-1.6.5/scripts/packages/VSCodeServer/src/serve_notebook.jl:114\n",
      " [11] top-level scope\n",
      "    @ ~/.vscode/extensions/julialang.language-julia-1.6.5/scripts/notebook/notebook.jl:14\n",
      " [12] include(mod::Module, _path::String)\n",
      "    @ Base ./Base.jl:418\n",
      " [13] exec_options(opts::Base.JLOptions)\n",
      "    @ Base ./client.jl:292\n",
      " [14] _start()\n",
      "    @ Base ./client.jl:495"
     ]
    }
   ],
   "source": [
    "# NOW YOU CAN USE BOTH INT AND STRING IN THE SAME FUNCTION\n",
    "println(foo(\"hello\", \"hello\"))\n",
    "println(foo(6,6))\n",
    ")"
   ]
  },
  {
   "cell_type": "code",
   "execution_count": 160,
   "metadata": {},
   "outputs": [
    {
     "name": "stdout",
     "output_type": "stream",
     "text": [
      "equal\n",
      "equal\n"
     ]
    },
    {
     "data": {
      "text/html": [
       "# 2 methods for generic function <b>foo</b>:<ul><li> foo(x::<b>Int64</b>, y::<b>Int64</b>) in Main at <a href=\"https://github.com/hakancangunerli/julia-notebooks/tree/7839c70684c70bb49459a35f097fab48c9dbb889//p6.ipynb#L1\" target=\"_blank\">/Users/hakancangunerli/Desktop/julia-notebooks/p6.ipynb:1</a></li> <li> foo(x::<b>String</b>, y::<b>String</b>) in Main at <a href=\"https://github.com/hakancangunerli/julia-notebooks/tree/7839c70684c70bb49459a35f097fab48c9dbb889//p6.ipynb#L1\" target=\"_blank\">/Users/hakancangunerli/Desktop/julia-notebooks/p6.ipynb:1</a></li> </ul>"
      ],
      "text/plain": [
       "# 2 methods for generic function \"foo\":\n",
       "[1] foo(x::Int64, y::Int64) in Main at /Users/hakancangunerli/Desktop/julia-notebooks/p6.ipynb:1\n",
       "[2] foo(x::String, y::String) in Main at /Users/hakancangunerli/Desktop/julia-notebooks/p6.ipynb:1"
      ]
     },
     "metadata": {},
     "output_type": "display_data"
    }
   ],
   "source": [
    "methods(foo)"
   ]
  },
  {
   "cell_type": "code",
   "execution_count": 161,
   "metadata": {},
   "outputs": [
    {
     "data": {
      "text/html": [
       "foo(x::<b>Int64</b>, y::<b>Int64</b>) in Main at <a href=\"https://github.com/hakancangunerli/julia-notebooks/tree/7839c70684c70bb49459a35f097fab48c9dbb889//p6.ipynb#L1\" target=\"_blank\">/Users/hakancangunerli/Desktop/julia-notebooks/p6.ipynb:1</a>"
      ],
      "text/plain": [
       "foo(x::Int64, y::Int64) in Main at /Users/hakancangunerli/Desktop/julia-notebooks/p6.ipynb:1"
      ]
     },
     "metadata": {},
     "output_type": "display_data"
    }
   ],
   "source": [
    "@which foo(4,4)"
   ]
  },
  {
   "cell_type": "code",
   "execution_count": 162,
   "metadata": {},
   "outputs": [
    {
     "data": {
      "text/html": [
       "foo(x::<b>String</b>, y::<b>String</b>) in Main at <a href=\"https://github.com/hakancangunerli/julia-notebooks/tree/7839c70684c70bb49459a35f097fab48c9dbb889//p6.ipynb#L1\" target=\"_blank\">/Users/hakancangunerli/Desktop/julia-notebooks/p6.ipynb:1</a>"
      ],
      "text/plain": [
       "foo(x::String, y::String) in Main at /Users/hakancangunerli/Desktop/julia-notebooks/p6.ipynb:1"
      ]
     },
     "metadata": {},
     "output_type": "display_data"
    }
   ],
   "source": [
    "@which foo(\"hello\", \"hello\")"
   ]
  },
  {
   "cell_type": "code",
   "execution_count": 163,
   "metadata": {},
   "outputs": [
    {
     "data": {
      "text/html": [
       "# 9 methods for type constructor:<ul><li> String(s::<b>String</b>) in Core at <a href=\"file:///Applications/Julia-1.7.app/Contents/Resources/julia/share/julia/base/boot.jl\" target=\"_blank\">boot.jl:363</a></li> <li> String(v::<b>Vector{UInt8}</b>) in Base at <a href=\"https://github.com/JuliaLang/julia/tree/bf534986350a991e4a1b29126de0342ffd76205e/base/strings/string.jl#L53\" target=\"_blank\">strings/string.jl:53</a></li> <li> String(s::<b>Symbol</b>) in Base at <a href=\"https://github.com/JuliaLang/julia/tree/bf534986350a991e4a1b29126de0342ffd76205e/base/strings/string.jl#L83\" target=\"_blank\">strings/string.jl:83</a></li> <li> String(s::<b>Base.CodeUnits{UInt8, String}</b>) in Base at <a href=\"https://github.com/JuliaLang/julia/tree/bf534986350a991e4a1b29126de0342ffd76205e/base/strings/string.jl#L91\" target=\"_blank\">strings/string.jl:91</a></li> <li> String(v::<b>AbstractVector{UInt8}</b>) in Base at <a href=\"https://github.com/JuliaLang/julia/tree/bf534986350a991e4a1b29126de0342ffd76205e/base/strings/string.jl#L52\" target=\"_blank\">strings/string.jl:52</a></li> <li> String(a::<b>AbstractVector{Char}</b>) in Base at <a href=\"https://github.com/JuliaLang/julia/tree/bf534986350a991e4a1b29126de0342ffd76205e/base/strings/io.jl#L743\" target=\"_blank\">strings/io.jl:743</a></li> <li> String(chars::<b>AbstractVector{<:AbstractChar}</b>) in Base at <a href=\"https://github.com/JuliaLang/julia/tree/bf534986350a991e4a1b29126de0342ffd76205e/base/strings/io.jl#L756\" target=\"_blank\">strings/io.jl:756</a></li> <li> String(s::<b>SubString{String}</b>) in Base at <a href=\"https://github.com/JuliaLang/julia/tree/bf534986350a991e4a1b29126de0342ffd76205e/base/strings/substring.jl#L58\" target=\"_blank\">strings/substring.jl:58</a></li> <li> String(s::<b>AbstractString</b>) in Base at <a href=\"https://github.com/JuliaLang/julia/tree/bf534986350a991e4a1b29126de0342ffd76205e/base/strings/string.jl#L82\" target=\"_blank\">strings/string.jl:82</a></li> </ul>"
      ],
      "text/plain": [
       "# 9 methods for type constructor:\n",
       "[1] String(s::String) in Core at boot.jl:363\n",
       "[2] String(v::Vector{UInt8}) in Base at strings/string.jl:53\n",
       "[3] String(s::Symbol) in Base at strings/string.jl:83\n",
       "[4] String(s::Base.CodeUnits{UInt8, String}) in Base at strings/string.jl:91\n",
       "[5] String(v::AbstractVector{UInt8}) in Base at strings/string.jl:52\n",
       "[6] String(a::AbstractVector{Char}) in Base at strings/io.jl:743\n",
       "[7] String(chars::AbstractVector{<:AbstractChar}) in Base at strings/io.jl:756\n",
       "[8] String(s::SubString{String}) in Base at strings/substring.jl:58\n",
       "[9] String(s::AbstractString) in Base at strings/string.jl:82"
      ]
     },
     "metadata": {},
     "output_type": "display_data"
    }
   ],
   "source": [
    "methods(String)"
   ]
  },
  {
   "cell_type": "code",
   "execution_count": 164,
   "metadata": {},
   "outputs": [
    {
     "name": "stdout",
     "output_type": "stream",
     "text": [
      "  0.000000 seconds\n"
     ]
    },
    {
     "data": {
      "text/plain": [
       "\"not equal\""
      ]
     },
     "metadata": {},
     "output_type": "display_data"
    }
   ],
   "source": [
    "@time foo(4,69)"
   ]
  },
  {
   "cell_type": "code",
   "execution_count": 165,
   "metadata": {},
   "outputs": [
    {
     "name": "stdout",
     "output_type": "stream",
     "text": [
      "  0.000001 seconds\n"
     ]
    },
    {
     "data": {
      "text/plain": [
       "\"not equal\""
      ]
     },
     "metadata": {},
     "output_type": "display_data"
    }
   ],
   "source": [
    "@time foo(\"hello\", \"these\")"
   ]
  },
  {
   "cell_type": "code",
   "execution_count": 166,
   "metadata": {},
   "outputs": [],
   "source": [
    "#=\n",
    "you can also use python packages within your julia, however you need to specify the env location\n",
    "using Pkg\n",
    "Pkg.add(\"PyCall\")\n",
    "using PyCall\n",
    "plt = pyimport(\"matplotlib.pyplot\")\n",
    "x = range(0; stop=2 * pi, length=1000);\n",
    "y = sin.(3 * x + 4 * cos.(2 * x));\n",
    "plt.plot(x, y, color=\"red\", linewidth=2.0, linestyle=\"--\")\n",
    "plt.show()\n",
    "=# "
   ]
  },
  {
   "cell_type": "code",
   "execution_count": 167,
   "metadata": {},
   "outputs": [],
   "source": []
  }
 ],
 "metadata": {
  "kernelspec": {
   "display_name": "Julia 1.7.2",
   "language": "julia",
   "name": "julia-1.7"
  },
  "language_info": {
   "file_extension": ".jl",
   "mimetype": "application/julia",
   "name": "julia",
   "version": "1.7.2"
  },
  "orig_nbformat": 4
 },
 "nbformat": 4,
 "nbformat_minor": 2
}
